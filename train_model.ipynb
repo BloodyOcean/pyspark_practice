{
 "cells": [
  {
   "cell_type": "code",
   "execution_count": 2,
   "id": "106f9cc9-4c2d-4b97-91a4-e5b2f6bd290a",
   "metadata": {},
   "outputs": [],
   "source": [
    "import findspark\n",
    "findspark.init()"
   ]
  },
  {
   "cell_type": "code",
   "execution_count": 3,
   "id": "cb92040d-c6c4-4a5b-84cb-453dc99a5728",
   "metadata": {},
   "outputs": [],
   "source": [
    "from pyspark.sql import SparkSession\n",
    "\n",
    "# Initialize Spark session\n",
    "spark = SparkSession.builder \\\n",
    "    .appName(\"RegressionTask\") \\\n",
    "    .getOrCreate()\n"
   ]
  },
  {
   "cell_type": "code",
   "execution_count": 4,
   "id": "993a3bc0-1a0c-419f-a3e5-d11053c59273",
   "metadata": {},
   "outputs": [
    {
     "name": "stdout",
     "output_type": "stream",
     "text": [
      "+-----+-----------------------------+--------------------+-------+\n",
      "|price|reimbursement_for_delay_total|             trip_id|user_id|\n",
      "+-----+-----------------------------+--------------------+-------+\n",
      "|123.8|                       16.094|75adb101-9183-418...|   5356|\n",
      "|200.5|                        601.0|028ce82f-e2bc-4a9...|   5358|\n",
      "|200.5|                          0.0|a974b1ea-dfff-40a...|    123|\n",
      "|100.5|                        100.5|028ce82f-e2bc-4a9...|   5359|\n",
      "| 76.8|                        9.984|75adb101-9183-418...|   5357|\n",
      "+-----+-----------------------------+--------------------+-------+\n",
      "\n"
     ]
    }
   ],
   "source": [
    "from pyspark.sql.functions import lit\n",
    "\n",
    "# Create DataFrame\n",
    "df = spark.read.json('./reimbursement_report')"
   ]
  },
  {
   "cell_type": "code",
   "execution_count": 5,
   "id": "1335742f-1c43-4ab3-b92a-256f76ffdf5f",
   "metadata": {},
   "outputs": [
    {
     "name": "stdout",
     "output_type": "stream",
     "text": [
      "+-----+-----------------------------+--------------------+-------+-------------+-------------+---------------+\n",
      "|price|reimbursement_for_delay_total|             trip_id|user_id|user_id_index|trip_id_index|       features|\n",
      "+-----+-----------------------------+--------------------+-------+-------------+-------------+---------------+\n",
      "|123.8|                       16.094|75adb101-9183-418...|   5356|          1.0|          1.0|[1.0,1.0,123.8]|\n",
      "|200.5|                        601.0|028ce82f-e2bc-4a9...|   5358|          3.0|          0.0|[3.0,0.0,200.5]|\n",
      "|200.5|                          0.0|a974b1ea-dfff-40a...|    123|          0.0|          2.0|[0.0,2.0,200.5]|\n",
      "|100.5|                        100.5|028ce82f-e2bc-4a9...|   5359|          4.0|          0.0|[4.0,0.0,100.5]|\n",
      "| 76.8|                        9.984|75adb101-9183-418...|   5357|          2.0|          1.0| [2.0,1.0,76.8]|\n",
      "+-----+-----------------------------+--------------------+-------+-------------+-------------+---------------+\n",
      "\n"
     ]
    }
   ],
   "source": [
    "from pyspark.ml.feature import StringIndexer, VectorAssembler\n",
    "from pyspark.ml import Pipeline\n",
    "\n",
    "# Index categorical columns\n",
    "indexer_user = StringIndexer(inputCol=\"user_id\", outputCol=\"user_id_index\")\n",
    "indexer_trip = StringIndexer(inputCol=\"trip_id\", outputCol=\"trip_id_index\")\n",
    "\n",
    "# Assemble feature vector\n",
    "assembler = VectorAssembler(inputCols=[\"user_id_index\", \"trip_id_index\", \"price\"], outputCol=\"features\")\n",
    "\n",
    "# Define pipeline\n",
    "pipeline = Pipeline(stages=[indexer_user, indexer_trip, assembler])\n",
    "df_transformed = pipeline.fit(df).transform(df)\n",
    "\n",
    "# Show the transformed DataFrame\n",
    "df_transformed.show()\n"
   ]
  },
  {
   "cell_type": "code",
   "execution_count": 6,
   "id": "26052a53-448e-4003-9491-cb4ee2605db0",
   "metadata": {},
   "outputs": [
    {
     "name": "stdout",
     "output_type": "stream",
     "text": [
      "Coefficients: [-52.574388518838546,-333.7264736689342,2.895235062094774]\n",
      "Intercept: 111.0966485534763\n"
     ]
    }
   ],
   "source": [
    "from pyspark.ml.regression import LinearRegression\n",
    "\n",
    "# Define the regression model\n",
    "lr = LinearRegression(featuresCol=\"features\", labelCol=\"reimbursement_for_delay_total\")\n",
    "\n",
    "# Train the model\n",
    "lr_model = lr.fit(df_transformed)\n",
    "\n",
    "# Print the coefficients and intercept for linear regression\n",
    "print(f\"Coefficients: {lr_model.coefficients}\")\n",
    "print(f\"Intercept: {lr_model.intercept}\")\n"
   ]
  },
  {
   "cell_type": "code",
   "execution_count": 7,
   "id": "b1e5bd55-118a-4170-add2-1142bab12270",
   "metadata": {},
   "outputs": [
    {
     "name": "stdout",
     "output_type": "stream",
     "text": [
      "+---------------+-----------------------------+-------------------+\n",
      "|       features|reimbursement_for_delay_total|         prediction|\n",
      "+---------------+-----------------------------+-------------------+\n",
      "|[1.0,1.0,123.8]|                       16.094|   83.2258870530366|\n",
      "|[3.0,0.0,200.5]|                        601.0|  533.8681129469629|\n",
      "|[0.0,2.0,200.5]|                          0.0| 24.138331165610154|\n",
      "|[4.0,0.0,100.5]|                        100.5| 191.77021821864696|\n",
      "| [2.0,1.0,76.8]|                        9.984|-105.42454938425631|\n",
      "+---------------+-----------------------------+-------------------+\n",
      "\n",
      "Root Mean Squared Error (RMSE): 79.05115502599796\n",
      "R-squared (R2): 0.8824414160094576\n"
     ]
    }
   ],
   "source": [
    "# Make predictions\n",
    "predictions = lr_model.transform(df_transformed)\n",
    "\n",
    "# Show predictions\n",
    "predictions.select(\"features\", \"reimbursement_for_delay_total\", \"prediction\").show()\n",
    "\n",
    "# Evaluate the model\n",
    "from pyspark.ml.evaluation import RegressionEvaluator\n",
    "\n",
    "evaluator = RegressionEvaluator(\n",
    "    labelCol=\"reimbursement_for_delay_total\", predictionCol=\"prediction\", metricName=\"rmse\")\n",
    "\n",
    "rmse = evaluator.evaluate(predictions)\n",
    "print(f\"Root Mean Squared Error (RMSE): {rmse}\")\n",
    "\n",
    "evaluator = RegressionEvaluator(\n",
    "    labelCol=\"reimbursement_for_delay_total\", predictionCol=\"prediction\", metricName=\"r2\")\n",
    "\n",
    "r2 = evaluator.evaluate(predictions)\n",
    "print(f\"R-squared (R2): {r2}\")\n"
   ]
  },
  {
   "cell_type": "code",
   "execution_count": null,
   "id": "59a6e177-57a6-43eb-a450-2478e143d4cb",
   "metadata": {},
   "outputs": [],
   "source": []
  }
 ],
 "metadata": {
  "kernelspec": {
   "display_name": "Python 3 (ipykernel)",
   "language": "python",
   "name": "python3"
  },
  "language_info": {
   "codemirror_mode": {
    "name": "ipython",
    "version": 3
   },
   "file_extension": ".py",
   "mimetype": "text/x-python",
   "name": "python",
   "nbconvert_exporter": "python",
   "pygments_lexer": "ipython3",
   "version": "3.10.11"
  }
 },
 "nbformat": 4,
 "nbformat_minor": 5
}
